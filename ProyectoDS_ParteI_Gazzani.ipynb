{
  "nbformat": 4,
  "nbformat_minor": 0,
  "metadata": {
    "colab": {
      "provenance": [],
      "authorship_tag": "ABX9TyPNfLNCsEIzdiCvGgkEcFN+",
      "include_colab_link": true
    },
    "kernelspec": {
      "name": "python3",
      "display_name": "Python 3"
    },
    "language_info": {
      "name": "python"
    }
  },
  "cells": [
    {
      "cell_type": "markdown",
      "metadata": {
        "id": "view-in-github",
        "colab_type": "text"
      },
      "source": [
        "<a href=\"https://colab.research.google.com/github/FrancescoGazzani/CoderDS1/blob/main/ProyectoDS_ParteI_Gazzani.ipynb\" target=\"_parent\"><img src=\"https://colab.research.google.com/assets/colab-badge.svg\" alt=\"Open In Colab\"/></a>"
      ]
    },
    {
      "cell_type": "markdown",
      "source": [
        "Empezamos cargando la libreria de Pandas"
      ],
      "metadata": {
        "id": "ihTJL0PvMSBo"
      }
    },
    {
      "cell_type": "code",
      "execution_count": 1,
      "metadata": {
        "id": "OwtZRNERKOzg"
      },
      "outputs": [],
      "source": [
        "# importar la libreria\n",
        "import pandas as pd"
      ]
    },
    {
      "cell_type": "code",
      "source": [],
      "metadata": {
        "id": "wgGCQwc6MXdv"
      },
      "execution_count": null,
      "outputs": []
    }
  ]
}